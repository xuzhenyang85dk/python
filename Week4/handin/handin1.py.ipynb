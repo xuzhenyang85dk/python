{
 "cells": [
  {
   "cell_type": "code",
   "execution_count": 2,
   "metadata": {},
   "outputs": [
    {
     "name": "stdout",
     "output_type": "stream",
     "text": [
      "Downloading file to ./output.xls\n"
     ]
    },
    {
     "data": {
      "text/plain": [
       "'./output.xls'"
      ]
     },
     "execution_count": 2,
     "metadata": {},
     "output_type": "execute_result"
    }
   ],
   "source": [
    "import webget\n",
    "\n",
    "url = \"https://ucr.fbi.gov/crime-in-the-u.s/2013/crime-in-the-u.s.-2013/tables/1tabledatadecoverviewpdf/table_1_crime_in_the_united_states_by_volume_and_rate_per_100000_inhabitants_1994-2013.xls/output.xls\"\n",
    "webget.download(url)"
   ]
  },
  {
   "cell_type": "code",
   "execution_count": 3,
   "metadata": {
    "scrolled": true
   },
   "outputs": [
    {
     "name": "stdout",
     "output_type": "stream",
     "text": [
      "['13tbl01']\n",
      "Crime in the United States\n"
     ]
    }
   ],
   "source": [
    "import pandas as pd\n",
    "\n",
    "# Load spreadsheet\n",
    "x1 = pd.ExcelFile('output.xls')\n",
    "# Print the sheet names\n",
    "print(x1.sheet_names)\n",
    "#Load a sheet into a DataFrame by name: df1\n",
    "df= x1.parse('13tbl01')\n",
    "title = df.iloc[0][0]\n",
    "\n",
    "print(title)"
   ]
  },
  {
   "cell_type": "code",
   "execution_count": 4,
   "metadata": {
    "scrolled": true
   },
   "outputs": [
    {
     "data": {
      "text/html": [
       "<div>\n",
       "<style>\n",
       "    .dataframe thead tr:only-child th {\n",
       "        text-align: right;\n",
       "    }\n",
       "\n",
       "    .dataframe thead th {\n",
       "        text-align: left;\n",
       "    }\n",
       "\n",
       "    .dataframe tbody tr th {\n",
       "        vertical-align: top;\n",
       "    }\n",
       "</style>\n",
       "<table border=\"1\" class=\"dataframe\">\n",
       "  <thead>\n",
       "    <tr style=\"text-align: right;\">\n",
       "      <th></th>\n",
       "      <th>Table 1</th>\n",
       "      <th></th>\n",
       "      <th>Unnamed: 2</th>\n",
       "      <th>Unnamed: 3</th>\n",
       "      <th>Unnamed: 4</th>\n",
       "      <th>Unnamed: 5</th>\n",
       "      <th>Unnamed: 6</th>\n",
       "      <th>Unnamed: 7</th>\n",
       "      <th>Unnamed: 8</th>\n",
       "      <th>Unnamed: 9</th>\n",
       "      <th>...</th>\n",
       "      <th>Unnamed: 14</th>\n",
       "      <th>Unnamed: 15</th>\n",
       "      <th>Unnamed: 16</th>\n",
       "      <th>Unnamed: 17</th>\n",
       "      <th>Unnamed: 18</th>\n",
       "      <th>Unnamed: 19</th>\n",
       "      <th>Unnamed: 20</th>\n",
       "      <th>Unnamed: 21</th>\n",
       "      <th>Unnamed: 22</th>\n",
       "      <th>Unnamed: 23</th>\n",
       "    </tr>\n",
       "  </thead>\n",
       "  <tbody>\n",
       "    <tr>\n",
       "      <th>2</th>\n",
       "      <td>Year</td>\n",
       "      <td>Population1</td>\n",
       "      <td>Violent\\ncrime</td>\n",
       "      <td>Violent \\ncrime \\nrate</td>\n",
       "      <td>Murder and\\nnonnegligent \\nmanslaughter</td>\n",
       "      <td>Murder and \\nnonnegligent \\nmanslaughter \\nrate</td>\n",
       "      <td>Rape\\n(legacy\\ndefinition)2</td>\n",
       "      <td>Rape\\n(legacy\\ndefinition)2\\nrate</td>\n",
       "      <td>Robbery</td>\n",
       "      <td>Robbery \\nrate</td>\n",
       "      <td>...</td>\n",
       "      <td>Burglary</td>\n",
       "      <td>Burglary \\nrate</td>\n",
       "      <td>Larceny-\\ntheft</td>\n",
       "      <td>Larceny-\\ntheft rate</td>\n",
       "      <td>Motor \\nvehicle \\ntheft</td>\n",
       "      <td>Motor \\nvehicle \\ntheft \\nrate</td>\n",
       "      <td>NaN</td>\n",
       "      <td></td>\n",
       "      <td>NaN</td>\n",
       "      <td>NaN</td>\n",
       "    </tr>\n",
       "    <tr>\n",
       "      <th>3</th>\n",
       "      <td>1994</td>\n",
       "      <td>260327021</td>\n",
       "      <td>1857670</td>\n",
       "      <td>713.6</td>\n",
       "      <td>23326</td>\n",
       "      <td>9</td>\n",
       "      <td>102216</td>\n",
       "      <td>39.3</td>\n",
       "      <td>618949</td>\n",
       "      <td>237.8</td>\n",
       "      <td>...</td>\n",
       "      <td>2712774</td>\n",
       "      <td>1042.1</td>\n",
       "      <td>7879812</td>\n",
       "      <td>3026.9</td>\n",
       "      <td>1539287</td>\n",
       "      <td>591.3</td>\n",
       "      <td>NaN</td>\n",
       "      <td>NaN</td>\n",
       "      <td>NaN</td>\n",
       "      <td>NaN</td>\n",
       "    </tr>\n",
       "    <tr>\n",
       "      <th>4</th>\n",
       "      <td>1995</td>\n",
       "      <td>262803276</td>\n",
       "      <td>1798792</td>\n",
       "      <td>684.5</td>\n",
       "      <td>21606</td>\n",
       "      <td>8.2</td>\n",
       "      <td>97470</td>\n",
       "      <td>37.1</td>\n",
       "      <td>580509</td>\n",
       "      <td>220.9</td>\n",
       "      <td>...</td>\n",
       "      <td>2593784</td>\n",
       "      <td>987</td>\n",
       "      <td>7997710</td>\n",
       "      <td>3043.2</td>\n",
       "      <td>1472441</td>\n",
       "      <td>560.3</td>\n",
       "      <td>NaN</td>\n",
       "      <td>NaN</td>\n",
       "      <td>NaN</td>\n",
       "      <td>NaN</td>\n",
       "    </tr>\n",
       "  </tbody>\n",
       "</table>\n",
       "<p>3 rows × 24 columns</p>\n",
       "</div>"
      ],
      "text/plain": [
       "  Table 1                   Unnamed: 2               Unnamed: 3  \\\n",
       "2    Year  Population1  Violent\\ncrime  Violent \\ncrime \\nrate    \n",
       "3    1994    260327021         1857670                    713.6   \n",
       "4    1995    262803276         1798792                    684.5   \n",
       "\n",
       "                                Unnamed: 4  \\\n",
       "2  Murder and\\nnonnegligent \\nmanslaughter   \n",
       "3                                    23326   \n",
       "4                                    21606   \n",
       "\n",
       "                                         Unnamed: 5  \\\n",
       "2  Murder and \\nnonnegligent \\nmanslaughter \\nrate    \n",
       "3                                                 9   \n",
       "4                                               8.2   \n",
       "\n",
       "                    Unnamed: 6                         Unnamed: 7 Unnamed: 8  \\\n",
       "2  Rape\\n(legacy\\ndefinition)2  Rape\\n(legacy\\ndefinition)2\\nrate    Robbery   \n",
       "3                       102216                               39.3     618949   \n",
       "4                        97470                               37.1     580509   \n",
       "\n",
       "        Unnamed: 9     ...     Unnamed: 14       Unnamed: 15      Unnamed: 16  \\\n",
       "2  Robbery \\nrate      ...        Burglary  Burglary \\nrate   Larceny-\\ntheft   \n",
       "3            237.8     ...         2712774            1042.1          7879812   \n",
       "4            220.9     ...         2593784               987          7997710   \n",
       "\n",
       "             Unnamed: 17              Unnamed: 18  \\\n",
       "2  Larceny-\\ntheft rate   Motor \\nvehicle \\ntheft   \n",
       "3                 3026.9                  1539287   \n",
       "4                 3043.2                  1472441   \n",
       "\n",
       "                       Unnamed: 19 Unnamed: 20 Unnamed: 21 Unnamed: 22  \\\n",
       "2  Motor \\nvehicle \\ntheft \\nrate          NaN                     NaN   \n",
       "3                            591.3         NaN         NaN         NaN   \n",
       "4                            560.3         NaN         NaN         NaN   \n",
       "\n",
       "  Unnamed: 23  \n",
       "2         NaN  \n",
       "3         NaN  \n",
       "4         NaN  \n",
       "\n",
       "[3 rows x 24 columns]"
      ]
     },
     "execution_count": 4,
     "metadata": {},
     "output_type": "execute_result"
    }
   ],
   "source": [
    "df.iloc[2:5]"
   ]
  },
  {
   "cell_type": "code",
   "execution_count": 47,
   "metadata": {},
   "outputs": [
    {
     "name": "stdout",
     "output_type": "stream",
     "text": [
      "27574579.666666668\n"
     ]
    }
   ],
   "source": [
    "import numpy as np\n",
    "\n",
    "temp1994 = df.iloc[3:4, 2:-4].values\n",
    "temp1995 = df.iloc[4:5, 2:-4].values\n",
    "temp1996 = df.iloc[5:6, 2:-4].values\n",
    "\n",
    "sum1994 = np.sum(temp1994)\n",
    "sum1995 = np.sum(temp1995)\n",
    "sum1996 = np.sum(temp1996)\n",
    "\n",
    "res = (sum1994+sum1995+sum1996)/3\n",
    "print(res)"
   ]
  },
  {
   "cell_type": "code",
   "execution_count": null,
   "metadata": {},
   "outputs": [],
   "source": []
  },
  {
   "cell_type": "code",
   "execution_count": null,
   "metadata": {
    "collapsed": true
   },
   "outputs": [],
   "source": []
  },
  {
   "cell_type": "code",
   "execution_count": null,
   "metadata": {
    "collapsed": true
   },
   "outputs": [],
   "source": []
  },
  {
   "cell_type": "code",
   "execution_count": null,
   "metadata": {
    "collapsed": true
   },
   "outputs": [],
   "source": []
  }
 ],
 "metadata": {
  "kernelspec": {
   "display_name": "Python 3",
   "language": "python",
   "name": "python3"
  },
  "language_info": {
   "codemirror_mode": {
    "name": "ipython",
    "version": 3
   },
   "file_extension": ".py",
   "mimetype": "text/x-python",
   "name": "python",
   "nbconvert_exporter": "python",
   "pygments_lexer": "ipython3",
   "version": "3.6.3"
  }
 },
 "nbformat": 4,
 "nbformat_minor": 2
}

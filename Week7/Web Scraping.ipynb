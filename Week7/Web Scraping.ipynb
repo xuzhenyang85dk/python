{
 "cells": [
  {
   "cell_type": "code",
   "execution_count": 18,
   "metadata": {},
   "outputs": [
    {
     "name": "stdout",
     "output_type": "stream",
     "text": [
      "<!DOCTYPE html PUBLIC \"-//W3C//DTD XHTML Basic 1.1//EN\" \"http://www.w3.org/TR/xhtml-basic/xhtml-basic11.dtd\">\n",
      "<!-- saved from url=(0114)http://www.kultunaut.dk/perl/arrlist/type-nynaut?ArrKunstner=%22the%20world%20is%20a%20beautiful%22&Area=&periode= -->\n",
      "<html lang=\"da\">\n",
      " <head>\n",
      "  <meta content=\"text/html; charset=utf-8\" http-equiv=\"Content-Type\"/>\n",
      "  <script src=\"./example_files/osd.js\">\n",
      "  </script>\n",
      "  <script src=\"./example_files/pubads_impl_rendering_187.js\">\n",
      "  </script>\n",
      "  <script src=\"./example_files/saved_resource\" type=\"text/javascript\">\n",
      "  </script>\n",
      "  <script src=\"./example_files/300lo.json\" type=\"text/javascript\">\n",
      "  </script>\n",
      "  <script src=\"./example_files/_ate.track.config_resp\" type=\"text/javascript\">\n",
      "  </script>\n",
      "  <script async=\"\" src=\"./example_files/gpt.js\" type=\"text/javascript\">\n",
      "  </script>\n",
      "  <script type=\"text/javascript\">\n",
      "   if (top.location != self.location) {\n",
      "//    top.location = self.location\n",
      "  }\n",
      "  </script>\n",
      "  <meta content=\"follow\" name=\"robots\"/>\n",
      "  <title>\n",
      "   Samlet guide til kultur, musik, teater og udstillinger - Find det hele på KultuNaut\n",
      "  </title>\n",
      "  <meta content=\"kultur musik teater udstillinger\" name=\"description\"/>\n",
      "  <meta content=\"ibyen sker koncerter arrangementer kulturkalender koncert\" name=\"keywords\"/>\n",
      "  <meta content=\"52040647606\" property=\"fb:app_id\"/>\n",
      "  <link href=\"http://www.kultunaut.dk/favicon.ico\" rel=\"shortcut icon\"/>\n",
      "  <link href=\"./example_files/udviklingstyle.css\" rel=\"stylesheet\" type=\"text/css\"/>\n",
      "  <style type=\"text/css\">\n",
      "   #handheld {display: none }\n",
      "\timg {display:block}\n",
      "\t.imgnormal img {display:inline}\n",
      "  </style>\n",
      "  <link href=\"./example_files/handheld.css\" media=\"handheld\" rel=\"stylesheet\" type=\"text/css\"/>\n",
      "  <link href=\"./example_files/print.css\" media=\"print\" rel=\"stylesheet\" type=\"text/css\"/>\n",
      "  <link href=\"http://www.kultunaut.dk/perl/mini/type-rss?ArrKunstner=%26quot%3Bthe%20world%20is%20a%20beautiful%26quot%3B&amp;Area=&amp;periode=\" rel=\"alternate\" title=\"Arrangementer  med ordet '&quot;the world is a beautiful&quot;'  \" type=\"application/rss+xml\"/>\n",
      "  <link href=\"http://www.kultunaut.dk/perl/nyheder.rss\" rel=\"alternate\" title=\"KultuNaut seneste nyt RSS\" type=\"application/rss+xml\"/>\n",
      "  <link href=\"./example_files/style.css\" rel=\"stylesheet\" type=\"text/css\"/>\n",
      "  <script src=\"./example_files/nautflash.js\" type=\"text/javascript\">\n",
      "  </script>\n",
      "  <script src=\"./example_files/naut.js\" type=\"text/javascript\">\n",
      "  </script>\n",
      "  <style type=\"text/css\">\n",
      "   .at-icon{fill:#fff;border:0}.at-icon-wrapper{display:inline-block;overflow:hidden}a .at-icon-wrapper{cursor:pointer}.at-rounded,.at-rounded-element .at-icon-wrapper{border-radius:12%}.at-circular,.at-circular-element .at-icon-wrapper{border-radius:50%}.addthis_32x32_style .at-icon{width:2pc;height:2pc}.addthis_24x24_style .at-icon{width:24px;height:24px}.addthis_20x20_style .at-icon{width:20px;height:20px}.addthis_16x16_style .at-icon{width:1pc;height:1pc}#at16lb{display:none;position:absolute;top:0;left:0;width:100%;height:100%;z-index:1001;background-color:#000;opacity:.001}#at_complete,#at_error,#at_share,#at_success{position:static!important}.at15dn{display:none}#at15s,#at16p,#at16p form input,#at16p label,#at16p textarea,#at_share .at_item{font-family:arial,helvetica,tahoma,verdana,sans-serif!important;font-size:9pt!important;outline-style:none;outline-width:0;line-height:1em}* html #at15s.mmborder{position:absolute!important}#at15s.mmborder{position:fixed!important;width:250px!important}#at15s{background:url(data:image/png;base64,iVBORw0KGgoAAA\n"
     ]
    }
   ],
   "source": [
    "import bs4\n",
    "\n",
    "with open('./example.html', encoding=\"ISO-8859-1\") as f:\n",
    "    example_html = f.read()\n",
    "\n",
    "soup = bs4.BeautifulSoup(example_html, 'html5lib')\n",
    "type(soup)\n",
    "print(soup.prettify()[:3500])"
   ]
  },
  {
   "cell_type": "code",
   "execution_count": 17,
   "metadata": {},
   "outputs": [
    {
     "name": "stdout",
     "output_type": "stream",
     "text": [
      "[<p id=\"peh\"><span></span></p>, <p class=\"nautlille\">\n",
      "<a href=\"http://www.kultunaut.dk/perl/view/type-nynaut/kontakt\">Kontakt</a> -\n",
      "<a href=\"http://www.kultunaut.dk/annoncer.pdf\">Annoncer</a> - \n",
      "\n",
      "<a href=\"http://www.kultunaut.dk/cgi/fejlmelding.pl/type-nynaut\">Rettelser</a>\n",
      " - <a href=\"javascript:window.print();\">Udskriv siden</a>\n",
      "<br/>\n",
      "© 2011 <a href=\"http://www.kultunaut.dk/perl/view/type-nynaut/om\">KultuNaut.dk</a> - Email: <a href=\"mailto:kultunaut@kultunaut.dk\">kultunaut@kultunaut.dk</a></p>]\n"
     ]
    }
   ],
   "source": [
    "import bs4\n",
    "import requests\n",
    "\n",
    "with open('./example.html', encoding=\"ISO-8859-1\") as f:\n",
    "    example_html = f.read()\n",
    "\n",
    "soup = bs4.BeautifulSoup(example_html, 'html5lib')\n",
    "\n",
    "span_elems = soup.select('span')[0]\n",
    "p_elems = soup.select('p')\n",
    "print(p_elems)\n",
    "\n",
    "\n"
   ]
  },
  {
   "cell_type": "code",
   "execution_count": 86,
   "metadata": {},
   "outputs": [
    {
     "name": "stdout",
     "output_type": "stream",
     "text": [
      "1340\n"
     ]
    }
   ],
   "source": [
    "import bs4\n",
    "import requests\n",
    "\n",
    "r = requests.get('http://www.kultunaut.dk/perl/arrlist/type-nynaut/UK?showmap=&Area=Kbh.+og+Frederiksberg&periode=&Genre=Musik')\n",
    "\n",
    "r.raise_for_status()\n",
    "soup = bs4.BeautifulSoup(r.text, 'html5lib')\n",
    "font_elems = soup.select('font')\n",
    "elems = soup.find_all('td',{'style':'background-color:#CBDCEE;color:#324669'})\n",
    "number = int(str(elems[0]).split(' ')[4].split('\\n')[0])\n",
    "\n",
    "#print(elems)\n",
    "print(number)"
   ]
  },
  {
   "cell_type": "code",
   "execution_count": 3,
   "metadata": {},
   "outputs": [
    {
     "ename": "NameError",
     "evalue": "name 'no_events' is not defined",
     "output_type": "error",
     "traceback": [
      "\u001b[0;31m---------------------------------------------------------------------------\u001b[0m",
      "\u001b[0;31mNameError\u001b[0m                                 Traceback (most recent call last)",
      "\u001b[0;32m<ipython-input-3-e74fd475dd5d>\u001b[0m in \u001b[0;36m<module>\u001b[0;34m()\u001b[0m\n\u001b[1;32m     35\u001b[0m \u001b[0;34m\u001b[0m\u001b[0m\n\u001b[1;32m     36\u001b[0m \u001b[0mscraped_events\u001b[0m \u001b[0;34m=\u001b[0m \u001b[0;34m[\u001b[0m\u001b[0;34m]\u001b[0m\u001b[0;34m\u001b[0m\u001b[0m\n\u001b[0;32m---> 37\u001b[0;31m \u001b[0mindexes\u001b[0m \u001b[0;34m=\u001b[0m \u001b[0mlist\u001b[0m\u001b[0;34m(\u001b[0m\u001b[0mrange\u001b[0m\u001b[0;34m(\u001b[0m\u001b[0;36m1\u001b[0m\u001b[0;34m,\u001b[0m \u001b[0mno_events\u001b[0m\u001b[0;34m,\u001b[0m \u001b[0;36m20\u001b[0m\u001b[0;34m)\u001b[0m\u001b[0;34m)\u001b[0m\u001b[0;34m\u001b[0m\u001b[0m\n\u001b[0m\u001b[1;32m     38\u001b[0m \u001b[0mindexes\u001b[0m\u001b[0;34m[\u001b[0m\u001b[0;36m0\u001b[0m\u001b[0;34m]\u001b[0m \u001b[0;34m=\u001b[0m \u001b[0;36m0\u001b[0m\u001b[0;34m\u001b[0m\u001b[0m\n\u001b[1;32m     39\u001b[0m \u001b[0;34m\u001b[0m\u001b[0m\n",
      "\u001b[0;31mNameError\u001b[0m: name 'no_events' is not defined"
     ]
    }
   ],
   "source": [
    "from tqdm import tqdm\n",
    "\n",
    "    \n",
    "def scrape_events_per_page(url):\n",
    "    \"\"\"\n",
    "    returns:\n",
    "        A list of tuples of strings holding title, place, date, and price\n",
    "        for concerts in Copenhagen scraped from Kulturnaut.dk\n",
    "    \"\"\"\n",
    "    r = requests.get(url)\n",
    "    r.raise_for_status()\n",
    "\n",
    "    soup = bs4.BeautifulSoup(r.text, 'html5lib')\n",
    "    event_cells = soup.find_all('td', {'width': '100%', 'valign' : 'top'})\n",
    "    scraped_events_per_page = []\n",
    "    for event_cell in event_cells:\n",
    "        try:\n",
    "            title = event_cell.find('b').text\n",
    "            spans = event_cell.find_all('span')\n",
    "            place = spans[1].text\n",
    "            try:\n",
    "                date, price = spans[0].text.splitlines()\n",
    "            except ValueError as e:\n",
    "                date = spans[0].text.splitlines()[0]\n",
    "                price = ''\n",
    "        except Exception as e:\n",
    "            print(e)\n",
    "            \n",
    "        scraped_events_per_page.append((title, place, date, price))\n",
    "        \n",
    "    return scraped_events_per_page\n",
    "\n",
    "\n",
    "base_url = 'http://www.kultunaut.dk/perl/arrlist/type-nynaut/UK?Startnr={}&showmap=&Area=Kbh.%20og%20Frederiksberg&periode=&Genre=Musik&'\n",
    "\n",
    "scraped_events = []\n",
    "indexes = list(range(1, no_events, 20))\n",
    "indexes[0] = 0\n",
    "\n",
    "for idx in tqdm(indexes):\n",
    "    scrape_url = base_url.format(idx)\n",
    "    scraped_events += scrape_events_per_page(scrape_url)"
   ]
  },
  {
   "cell_type": "code",
   "execution_count": null,
   "metadata": {
    "collapsed": true
   },
   "outputs": [],
   "source": []
  },
  {
   "cell_type": "code",
   "execution_count": null,
   "metadata": {
    "collapsed": true
   },
   "outputs": [],
   "source": []
  },
  {
   "cell_type": "code",
   "execution_count": null,
   "metadata": {
    "collapsed": true
   },
   "outputs": [],
   "source": []
  }
 ],
 "metadata": {
  "kernelspec": {
   "display_name": "Python 3",
   "language": "python",
   "name": "python3"
  },
  "language_info": {
   "codemirror_mode": {
    "name": "ipython",
    "version": 3
   },
   "file_extension": ".py",
   "mimetype": "text/x-python",
   "name": "python",
   "nbconvert_exporter": "python",
   "pygments_lexer": "ipython3",
   "version": "3.6.3"
  }
 },
 "nbformat": 4,
 "nbformat_minor": 2
}

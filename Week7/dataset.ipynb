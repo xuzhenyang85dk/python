{
 "cells": [
  {
   "cell_type": "code",
   "execution_count": 7,
   "metadata": {
    "collapsed": true
   },
   "outputs": [],
   "source": [
    "import webget\n",
    "import gzip\n",
    "import pandas as pd\n",
    "\n",
    "url = 'https://datasets.imdbws.com/title.basics.tsv.gz'\n",
    "#webget.download(url)\n",
    "filename = url.split('/')[-1]\n",
    "\"\"\"with gzip.open('title.basics.tsv.gz','rb') as f:\n",
    "    data = pd.read_csv(f)\n",
    "    print(data)\n",
    "f.close\n",
    "\"\"\"\n",
    "print(pd.read_table(filename, compression='gzip',index_col=6))\n",
    "\n"
   ]
  }
 ],
 "metadata": {
  "kernelspec": {
   "display_name": "Python 3",
   "language": "python",
   "name": "python3"
  },
  "language_info": {
   "codemirror_mode": {
    "name": "ipython",
    "version": 3
   },
   "file_extension": ".py",
   "mimetype": "text/x-python",
   "name": "python",
   "nbconvert_exporter": "python",
   "pygments_lexer": "ipython3",
   "version": "3.6.3"
  }
 },
 "nbformat": 4,
 "nbformat_minor": 2
}

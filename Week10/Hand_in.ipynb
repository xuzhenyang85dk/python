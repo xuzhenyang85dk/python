{
 "cells": [
  {
   "cell_type": "code",
   "execution_count": 351,
   "metadata": {},
   "outputs": [],
   "source": [
    "import pandas as pd\n",
    "import webget\n",
    "import matplotlib.pyplot as plt\n",
    "import os\n",
    "import statistics\n",
    "from collections import Counter\n",
    "\n",
    "df = pd.read_csv('ks-projects-201801.csv')"
   ]
  },
  {
   "cell_type": "code",
   "execution_count": 253,
   "metadata": {},
   "outputs": [
    {
     "name": "stdout",
     "output_type": "stream",
     "text": [
      "Film & Video    63585\n",
      "Music           51918\n",
      "Publishing      39874\n",
      "Games           35231\n",
      "Technology      32569\n",
      "Design          30070\n",
      "Art             28153\n",
      "Food            24602\n",
      "Fashion         22816\n",
      "Theater         10913\n",
      "Comics          10819\n",
      "Photography     10779\n",
      "Crafts           8809\n",
      "Journalism       4755\n",
      "Dance            3768\n",
      "Name: main_category, dtype: int64\n"
     ]
    }
   ],
   "source": [
    "main_category_lst = df['main_category'].value_counts() # return 15 categories\n",
    "print(main_category_lst)"
   ]
  },
  {
   "cell_type": "code",
   "execution_count": null,
   "metadata": {},
   "outputs": [],
   "source": []
  },
  {
   "cell_type": "code",
   "execution_count": 258,
   "metadata": {},
   "outputs": [],
   "source": [
    "# 1 ('Theater') 6534\n",
    "# 2 Publishing 12300\n",
    "# 3 ('Dance')  2338\n",
    "# 4 ('Music') 24197\n",
    "# 5 ('Fashion') 5593\n",
    "# 6 ('Food') 6085\n",
    "# 7 ('Comics') 5842\n",
    "# 8 ('Photography') 3305\n",
    "# 9 ('Art') 11510\n",
    "# 10 Design 10550\n",
    "# 11 Crafts 2115\n",
    "# 12 Film & Video 23623\n",
    "# 13 Journalism 1012\n",
    "# 14 Technology 6434\n",
    "# 15 Games 12518\n"
   ]
  },
  {
   "cell_type": "code",
   "execution_count": 268,
   "metadata": {},
   "outputs": [
    {
     "name": "stdout",
     "output_type": "stream",
     "text": [
      "1. What main-category of project has the highest success rate?\n",
      "The highest success rate of project is: Music\n",
      "The amount are: 96788\n"
     ]
    },
    {
     "data": {
      "image/png": "[encoded data removed]",
      "text/plain": [
       "<matplotlib.figure.Figure at 0x10d1f1908>"
      ]
     },
     "metadata": {},
     "output_type": "display_data"
    }
   ],
   "source": [
    "def question1():\n",
    "    for _, row in df.iterrows():\n",
    "        if row['state'] == 'successful':\n",
    "            main_category_lst.append(row['main_category'])\n",
    "    res_category = max(set(main_category_lst),key=main_category_lst.count)\n",
    "    print('1. What main-category of project has the highest success rate?')\n",
    "    print('The highest success rate of project is: {}'.format(res_category))\n",
    "    # here counter how many Music projects\n",
    "    def counter_category(lst,cat):\n",
    "        counter = 0\n",
    "        for idx in lst:\n",
    "            if idx == cat:\n",
    "                counter +=1\n",
    "        return counter\n",
    "    cat_amount = counter_category(main_category_lst,'Music')\n",
    "    print('The amount are: {}'.format(cat_amount))\n",
    "    x = list(set(main_category_lst))\n",
    "    # list of success main-cagegory project amount\n",
    "    y = [6534,12300,2338,24197,5593,6085,5842,3305,11510,10550,2115,23623,1012,6434,12518]\n",
    "    plt.figure(figsize=(18,10))\n",
    "    plt.bar(x,y, align='center',color = 'lightblue',label='Main Categories')\n",
    "    plt.title('The highest success rate',fontsize = 14)\n",
    "    plt.xlabel('Main Categories',fontsize= 12)\n",
    "    plt.legend()\n",
    "    plt.show()\n",
    "    #plt.savefig(os.path.join('highest_succes_rate.png'), dpi=300, format='png', bbox_inches='tight')\n",
    "question1()"
   ]
  },
  {
   "cell_type": "code",
   "execution_count": 398,
   "metadata": {},
   "outputs": [
    {
     "name": "stdout",
     "output_type": "stream",
     "text": [
      "2. For the main-category of project with highest success rate (question above), what is the main-category with the highest number of project proposals?\n",
      "The highest number of project proposals is: Film & Video \n"
     ]
    }
   ],
   "source": [
    "def question2():\n",
    "    main_category_series = df['main_category'].value_counts()\n",
    "    print('2. For the main-category of project with highest success rate (question above), what is the main-category with the highest number of project proposals?')\n",
    "    print('The highest number of project proposals is: {} '.format(main_category_series.index[0]))\n",
    "    main_category_series.plot.bar(color='lightblue',figsize = (8,6),label='words',align='center')\n",
    "    plt.title('The highest number of project proposals',fontsize = 14)\n",
    "    plt.xlabel('Main Categories',fontsize= 12)\n",
    "    #plt.show()\n",
    "    plt.savefig(os.path.join('highest_number_of_project_proposals.png'), dpi=300, format='png', bbox_inches='tight')\n",
    "question2()"
   ]
  },
  {
   "cell_type": "code",
   "execution_count": 169,
   "metadata": {},
   "outputs": [
    {
     "name": "stdout",
     "output_type": "stream",
     "text": [
      "133956\n",
      "The median pledged amount (usd_pledged_real) of successfully funded projects is: 5107.25\n"
     ]
    }
   ],
   "source": [
    "def question3():\n",
    "    pledged_amout_lst = []\n",
    "    for _, row in df.iterrows():\n",
    "        if row['state'] == 'successful':\n",
    "            pledged_amout_lst.append(row['usd_pledged_real'])\n",
    "    print('Total amount: {}'.format(len(pledged_amout_lst)))\n",
    "    median_pledged_amount = statistics.median(pledged_amout_lst)\n",
    "    print('3. What is the median pledged amount (usd_pledged_real) of successfully funded projects?')\n",
    "    print('The median pledged amount (usd_pledged_real) of successfully funded projects is: {}'.format(median_pledged_amount))\n",
    "\n",
    "question3()"
   ]
  },
  {
   "cell_type": "code",
   "execution_count": 270,
   "metadata": {
    "scrolled": true
   },
   "outputs": [
    {
     "name": "stdout",
     "output_type": "stream",
     "text": [
      "4. What is the number of successfully funded projects with more than 5.000$ pledged (usd_pledged_real) per main-category?\n",
      "The number of successfully funded projects with more than 5.000$ pledged is: ('Film & Video', 12505) \n"
     ]
    },
    {
     "data": {
      "image/png": "[encoded data removed]",
      "text/plain": [
       "<matplotlib.figure.Figure at 0x106a12588>"
      ]
     },
     "metadata": {},
     "output_type": "display_data"
    }
   ],
   "source": [
    "def question4():\n",
    "    categories = []\n",
    "    for _, row in df.iterrows():\n",
    "        if row['state'] == 'successful':\n",
    "            if row['usd_pledged_real'] >= 5000:\n",
    "                categories.append(row['main_category'])\n",
    "    counter_categories =Counter(categories)\n",
    "    res = list(counter_categories.most_common(1))\n",
    "    print('4. What is the number of successfully funded projects with more than 5.000$ pledged (usd_pledged_real) per main-category?')\n",
    "    print('The number of successfully funded projects with more than 5.000$ pledged is: {} '.format(res[0]))\n",
    "    lables,values =  zip(*Counter(categories).items())\n",
    "    plt.figure(figsize=(18,10))\n",
    "    plt.bar(lables,values,align='center',color = 'lightblue',label='Main Categories')\n",
    "    plt.title('The number of successfully funded projects with more than 5.000$ pledged',fontsize = 14)\n",
    "    plt.xlabel('Main Categories',fontsize= 12)\n",
    "    plt.show()\n",
    "    #plt.savefig(os.path.join('number_of_success_project_more_than_5000.png'), dpi=300, format='png', bbox_inches='tight')\n",
    "question4()\n"
   ]
  },
  {
   "cell_type": "code",
   "execution_count": null,
   "metadata": {},
   "outputs": [],
   "source": []
  },
  {
   "cell_type": "code",
   "execution_count": 273,
   "metadata": {},
   "outputs": [],
   "source": [
    "def question5():\n",
    "    df['main_category']"
   ]
  },
  {
   "cell_type": "code",
   "execution_count": 272,
   "metadata": {},
   "outputs": [
    {
     "data": {
      "text/html": [
       "<div>\n",
       "<style>\n",
       "    .dataframe thead tr:only-child th {\n",
       "        text-align: right;\n",
       "    }\n",
       "\n",
       "    .dataframe thead th {\n",
       "        text-align: left;\n",
       "    }\n",
       "\n",
       "    .dataframe tbody tr th {\n",
       "        vertical-align: top;\n",
       "    }\n",
       "</style>\n",
       "<table border=\"1\" class=\"dataframe\">\n",
       "  <thead>\n",
       "    <tr style=\"text-align: right;\">\n",
       "      <th></th>\n",
       "      <th>ID</th>\n",
       "      <th>name</th>\n",
       "      <th>category</th>\n",
       "      <th>main_category</th>\n",
       "      <th>currency</th>\n",
       "      <th>deadline</th>\n",
       "      <th>goal</th>\n",
       "      <th>launched</th>\n",
       "      <th>pledged</th>\n",
       "      <th>state</th>\n",
       "      <th>backers</th>\n",
       "      <th>country</th>\n",
       "      <th>usd pledged</th>\n",
       "      <th>usd_pledged_real</th>\n",
       "      <th>usd_goal_real</th>\n",
       "    </tr>\n",
       "  </thead>\n",
       "  <tbody>\n",
       "    <tr>\n",
       "      <th>0</th>\n",
       "      <td>1000002330</td>\n",
       "      <td>The Songs of Adelaide &amp; Abullah</td>\n",
       "      <td>Poetry</td>\n",
       "      <td>Publishing</td>\n",
       "      <td>GBP</td>\n",
       "      <td>2015-10-09</td>\n",
       "      <td>1000.0</td>\n",
       "      <td>2015-08-11 12:12:28</td>\n",
       "      <td>0.0</td>\n",
       "      <td>failed</td>\n",
       "      <td>0</td>\n",
       "      <td>GB</td>\n",
       "      <td>0.0</td>\n",
       "      <td>0.0</td>\n",
       "      <td>1533.95</td>\n",
       "    </tr>\n",
       "    <tr>\n",
       "      <th>1</th>\n",
       "      <td>1000003930</td>\n",
       "      <td>Greeting From Earth: ZGAC Arts Capsule For ET</td>\n",
       "      <td>Narrative Film</td>\n",
       "      <td>Film &amp; Video</td>\n",
       "      <td>USD</td>\n",
       "      <td>2017-11-01</td>\n",
       "      <td>30000.0</td>\n",
       "      <td>2017-09-02 04:43:57</td>\n",
       "      <td>2421.0</td>\n",
       "      <td>failed</td>\n",
       "      <td>15</td>\n",
       "      <td>US</td>\n",
       "      <td>100.0</td>\n",
       "      <td>2421.0</td>\n",
       "      <td>30000.00</td>\n",
       "    </tr>\n",
       "    <tr>\n",
       "      <th>2</th>\n",
       "      <td>1000004038</td>\n",
       "      <td>Where is Hank?</td>\n",
       "      <td>Narrative Film</td>\n",
       "      <td>Film &amp; Video</td>\n",
       "      <td>USD</td>\n",
       "      <td>2013-02-26</td>\n",
       "      <td>45000.0</td>\n",
       "      <td>2013-01-12 00:20:50</td>\n",
       "      <td>220.0</td>\n",
       "      <td>failed</td>\n",
       "      <td>3</td>\n",
       "      <td>US</td>\n",
       "      <td>220.0</td>\n",
       "      <td>220.0</td>\n",
       "      <td>45000.00</td>\n",
       "    </tr>\n",
       "    <tr>\n",
       "      <th>3</th>\n",
       "      <td>1000007540</td>\n",
       "      <td>ToshiCapital Rekordz Needs Help to Complete Album</td>\n",
       "      <td>Music</td>\n",
       "      <td>Music</td>\n",
       "      <td>USD</td>\n",
       "      <td>2012-04-16</td>\n",
       "      <td>5000.0</td>\n",
       "      <td>2012-03-17 03:24:11</td>\n",
       "      <td>1.0</td>\n",
       "      <td>failed</td>\n",
       "      <td>1</td>\n",
       "      <td>US</td>\n",
       "      <td>1.0</td>\n",
       "      <td>1.0</td>\n",
       "      <td>5000.00</td>\n",
       "    </tr>\n",
       "    <tr>\n",
       "      <th>4</th>\n",
       "      <td>1000011046</td>\n",
       "      <td>Community Film Project: The Art of Neighborhoo...</td>\n",
       "      <td>Film &amp; Video</td>\n",
       "      <td>Film &amp; Video</td>\n",
       "      <td>USD</td>\n",
       "      <td>2015-08-29</td>\n",
       "      <td>19500.0</td>\n",
       "      <td>2015-07-04 08:35:03</td>\n",
       "      <td>1283.0</td>\n",
       "      <td>canceled</td>\n",
       "      <td>14</td>\n",
       "      <td>US</td>\n",
       "      <td>1283.0</td>\n",
       "      <td>1283.0</td>\n",
       "      <td>19500.00</td>\n",
       "    </tr>\n",
       "  </tbody>\n",
       "</table>\n",
       "</div>"
      ],
      "text/plain": [
       "           ID                                               name  \\\n",
       "0  1000002330                    The Songs of Adelaide & Abullah   \n",
       "1  1000003930      Greeting From Earth: ZGAC Arts Capsule For ET   \n",
       "2  1000004038                                     Where is Hank?   \n",
       "3  1000007540  ToshiCapital Rekordz Needs Help to Complete Album   \n",
       "4  1000011046  Community Film Project: The Art of Neighborhoo...   \n",
       "\n",
       "         category main_category currency    deadline     goal  \\\n",
       "0          Poetry    Publishing      GBP  2015-10-09   1000.0   \n",
       "1  Narrative Film  Film & Video      USD  2017-11-01  30000.0   \n",
       "2  Narrative Film  Film & Video      USD  2013-02-26  45000.0   \n",
       "3           Music         Music      USD  2012-04-16   5000.0   \n",
       "4    Film & Video  Film & Video      USD  2015-08-29  19500.0   \n",
       "\n",
       "              launched  pledged     state  backers country  usd pledged  \\\n",
       "0  2015-08-11 12:12:28      0.0    failed        0      GB          0.0   \n",
       "1  2017-09-02 04:43:57   2421.0    failed       15      US        100.0   \n",
       "2  2013-01-12 00:20:50    220.0    failed        3      US        220.0   \n",
       "3  2012-03-17 03:24:11      1.0    failed        1      US          1.0   \n",
       "4  2015-07-04 08:35:03   1283.0  canceled       14      US       1283.0   \n",
       "\n",
       "   usd_pledged_real  usd_goal_real  \n",
       "0               0.0        1533.95  \n",
       "1            2421.0       30000.00  \n",
       "2             220.0       45000.00  \n",
       "3               1.0        5000.00  \n",
       "4            1283.0       19500.00  "
      ]
     },
     "execution_count": 272,
     "metadata": {},
     "output_type": "execute_result"
    }
   ],
   "source": [
    "df.head()"
   ]
  },
  {
   "cell_type": "code",
   "execution_count": 277,
   "metadata": {},
   "outputs": [
    {
     "data": {
      "text/plain": [
       "378661"
      ]
     },
     "execution_count": 277,
     "metadata": {},
     "output_type": "execute_result"
    }
   ],
   "source": [
    "len(df['usd_goal_real'])"
   ]
  },
  {
   "cell_type": "code",
   "execution_count": 393,
   "metadata": {},
   "outputs": [
    {
     "name": "stdout",
     "output_type": "stream",
     "text": [
      "the most successfully funded projects,the amount range (usd_goal_real)\n",
      "Range 0 - 10k$ are: [('Music', 42692), ('Film & Video', 40203), ('Publishing', 30876), ('Art', 23370), ('Games', 20875), ('Fashion', 15273), ('Design', 15179), ('Food', 12829), ('Technology', 12407), ('Theater', 9066), ('Comics', 8925), ('Photography', 8443), ('Crafts', 7452), ('Journalism', 3382), ('Dance', 3272)]\n",
      "Range 10k - 20k are: [('Film & Video', 8449), ('Games', 5504), ('Design', 5434), ('Music', 5339), ('Technology', 4798), ('Publishing', 4734), ('Food', 4373), ('Fashion', 3593), ('Art', 2215), ('Photography', 1263), ('Comics', 1072), ('Theater', 838), ('Crafts', 693), ('Journalism', 522), ('Dance', 274)]\n",
      "Range 20k - 30k are: [('Film & Video', 4317), ('Technology', 3497), ('Design', 3097), ('Games', 2598), ('Food', 2489), ('Publishing', 1875), ('Fashion', 1721), ('Music', 1614), ('Art', 890), ('Photography', 478), ('Comics', 369), ('Theater', 330), ('Journalism', 274), ('Crafts', 237), ('Dance', 82)]\n",
      "Range 30k - 40k are: [('Film & Video', 2043), ('Technology', 1868), ('Design', 1453), ('Games', 1381), ('Food', 1076), ('Publishing', 706), ('Fashion', 674), ('Music', 585), ('Art', 375), ('Photography', 203), ('Comics', 150), ('Theater', 133), ('Journalism', 107), ('Crafts', 87), ('Dance', 35)]\n",
      "Range 40k - 50k are: [('Technology', 2559), ('Film & Video', 2235), ('Design', 1542), ('Games', 1257), ('Food', 1140), ('Publishing', 598), ('Fashion', 576), ('Music', 540), ('Art', 355), ('Theater', 154), ('Photography', 148), ('Journalism', 137), ('Crafts', 129), ('Comics', 126), ('Dance', 38)]\n",
      "Range 60k and more are: [('Technology', 7440), ('Film & Video', 6338), ('Games', 3616), ('Design', 3365), ('Food', 2695), ('Music', 1148), ('Publishing', 1085), ('Fashion', 979), ('Art', 948), ('Theater', 392), ('Journalism', 333), ('Photography', 244), ('Crafts', 211), ('Comics', 177), ('Dance', 67)]\n"
     ]
    }
   ],
   "source": [
    "def question5():\n",
    "    fst_lst,sec_lst, trd_lst, fourth_lst, fifth_lst,six_lst = [], [], [], [], [], []\n",
    "    for _, row in df.iterrows():\n",
    "        if row['usd_goal_real'] <= 10000:\n",
    "            fst_lst.append(row['main_category'])\n",
    "        if row['usd_goal_real'] > 10000 and row['usd_goal_real'] <= 20000:\n",
    "            sec_lst.append(row['main_category'])\n",
    "        if row['usd_goal_real'] > 20000 and row['usd_goal_real'] <= 30000:\n",
    "            trd_lst.append(row['main_category'])\n",
    "        if row['usd_goal_real'] > 30000 and row['usd_goal_real'] <= 40000:\n",
    "            fourth_lst.append(row['main_category'])\n",
    "        if row['usd_goal_real'] > 40000 and row['usd_goal_real'] <= 50000:\n",
    "            fifth_lst.append(row['main_category'])\n",
    "        if row['usd_goal_real'] > 50000 :\n",
    "            six_lst.append(row['main_category'])\n",
    "    print('the most successfully funded projects,the amount range (usd_goal_real)')\n",
    "    print('Range 0 - 10k$ are: {}'.format(list(Counter(fst_lst).most_common())))\n",
    "    print('Range 10k - 20k are: {}'.format(list(Counter(sec_lst).most_common())))\n",
    "    print('Range 20k - 30k are: {}'.format(list(Counter(trd_lst).most_common())))\n",
    "    print('Range 30k - 40k are: {}'.format(list(Counter(fourth_lst).most_common())))\n",
    "    print('Range 40k - 50k are: {}'.format(list(Counter(fifth_lst).most_common())))\n",
    "    print('Range 60k and more are: {}'.format(list(Counter(six_lst).most_common())))\n",
    "    lables, values = zip(*Counter(fst_lst).items())\n",
    "    plt.figure(figsize=(18,10))\n",
    "    plt.bar(lables,values,align='center',color = 'lightblue',label='Main Categories')\n",
    "    plt.title('The most successfully funded projects range 0-10k$ ',fontsize = 14)\n",
    "    plt.xlabel('Main Category',fontsize= 12)\n",
    "    #plt.show()\n",
    "    plt.savefig(os.path.join('10k.png'), dpi=300, format='png', bbox_inches='tight')\n",
    "question5()\n"
   ]
  },
  {
   "cell_type": "code",
   "execution_count": null,
   "metadata": {},
   "outputs": [],
   "source": []
  },
  {
   "cell_type": "code",
   "execution_count": 354,
   "metadata": {},
   "outputs": [
    {
     "data": {
      "text/html": [
       "<div>\n",
       "<style>\n",
       "    .dataframe thead tr:only-child th {\n",
       "        text-align: right;\n",
       "    }\n",
       "\n",
       "    .dataframe thead th {\n",
       "        text-align: left;\n",
       "    }\n",
       "\n",
       "    .dataframe tbody tr th {\n",
       "        vertical-align: top;\n",
       "    }\n",
       "</style>\n",
       "<table border=\"1\" class=\"dataframe\">\n",
       "  <thead>\n",
       "    <tr style=\"text-align: right;\">\n",
       "      <th></th>\n",
       "      <th>ID</th>\n",
       "      <th>name</th>\n",
       "      <th>category</th>\n",
       "      <th>main_category</th>\n",
       "      <th>currency</th>\n",
       "      <th>deadline</th>\n",
       "      <th>goal</th>\n",
       "      <th>launched</th>\n",
       "      <th>pledged</th>\n",
       "      <th>state</th>\n",
       "      <th>backers</th>\n",
       "      <th>country</th>\n",
       "      <th>usd pledged</th>\n",
       "      <th>usd_pledged_real</th>\n",
       "      <th>usd_goal_real</th>\n",
       "    </tr>\n",
       "  </thead>\n",
       "  <tbody>\n",
       "    <tr>\n",
       "      <th>47803</th>\n",
       "      <td>1243678698</td>\n",
       "      <td>FUCK Potato Salad. Paleo Potato Brownies!</td>\n",
       "      <td>Food</td>\n",
       "      <td>Food</td>\n",
       "      <td>GBP</td>\n",
       "      <td>2014-08-08</td>\n",
       "      <td>99000000.0</td>\n",
       "      <td>2014-07-09 00:24:34</td>\n",
       "      <td>0.0</td>\n",
       "      <td>failed</td>\n",
       "      <td>0</td>\n",
       "      <td>GB</td>\n",
       "      <td>0.0</td>\n",
       "      <td>0.0</td>\n",
       "      <td>1.663614e+08</td>\n",
       "    </tr>\n",
       "  </tbody>\n",
       "</table>\n",
       "</div>"
      ],
      "text/plain": [
       "               ID                                       name category  \\\n",
       "47803  1243678698  FUCK Potato Salad. Paleo Potato Brownies!     Food   \n",
       "\n",
       "      main_category currency    deadline        goal             launched  \\\n",
       "47803          Food      GBP  2014-08-08  99000000.0  2014-07-09 00:24:34   \n",
       "\n",
       "       pledged   state  backers country  usd pledged  usd_pledged_real  \\\n",
       "47803      0.0  failed        0      GB          0.0               0.0   \n",
       "\n",
       "       usd_goal_real  \n",
       "47803   1.663614e+08  "
      ]
     },
     "execution_count": 354,
     "metadata": {},
     "output_type": "execute_result"
    }
   ],
   "source": [
    "df.loc[df['usd_goal_real']==166361390.71000001]"
   ]
  },
  {
   "cell_type": "code",
   "execution_count": 403,
   "metadata": {},
   "outputs": [],
   "source": [
    "lables, values = zip(*Counter(six_lst).items())\n",
    "plt.figure(figsize=(18,10))\n",
    "plt.bar(lables,values,align='center',color = 'lightblue',label='Main Categories')\n",
    "plt.title('The most successfully funded projects range 60 > 170000 k$ ',fontsize = 14)\n",
    "plt.xlabel('Main Category',fontsize= 12)\n",
    "#plt.show()\n",
    "plt.savefig(os.path.join('60k.png'), dpi=300, format='png', bbox_inches='tight')"
   ]
  },
  {
   "cell_type": "code",
   "execution_count": null,
   "metadata": {},
   "outputs": [],
   "source": [
    "fst_lst,sec_lst, trd_lst, fourth_lst, fifth_lst,six_lst"
   ]
  },
  {
   "cell_type": "code",
   "execution_count": null,
   "metadata": {},
   "outputs": [],
   "source": []
  },
  {
   "cell_type": "code",
   "execution_count": null,
   "metadata": {},
   "outputs": [],
   "source": []
  },
  {
   "cell_type": "code",
   "execution_count": null,
   "metadata": {},
   "outputs": [],
   "source": []
  },
  {
   "cell_type": "code",
   "execution_count": null,
   "metadata": {},
   "outputs": [],
   "source": []
  }
 ],
 "metadata": {
  "kernelspec": {
   "display_name": "Python 3",
   "language": "python",
   "name": "python3"
  },
  "language_info": {
   "codemirror_mode": {
    "name": "ipython",
    "version": 3
   },
   "file_extension": ".py",
   "mimetype": "text/x-python",
   "name": "python",
   "nbconvert_exporter": "python",
   "pygments_lexer": "ipython3",
   "version": "3.6.3"
  }
 },
 "nbformat": 4,
 "nbformat_minor": 2
}
